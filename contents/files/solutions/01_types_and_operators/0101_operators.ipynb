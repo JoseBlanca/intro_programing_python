{
 "cells": [
  {
   "cell_type": "markdown",
   "metadata": {},
   "source": [
    "# Operators\n",
    "\n",
    "## Basic numeric operations"
   ]
  },
  {
   "cell_type": "code",
   "execution_count": null,
   "metadata": {},
   "outputs": [],
   "source": [
    "# calculate the area of a rectangle\n",
    "width = 20\n",
    "height = 5\n",
    "area = width * height\n",
    "print(\"area = \", area)"
   ]
  },
  {
   "cell_type": "code",
   "execution_count": null,
   "metadata": {},
   "outputs": [],
   "source": [
    "# Calculate the area of a circle, remember that the area is pi * r^2\n",
    "pi = 3.14159\n",
    "# alternatively, we can get the value of pi directly from python\n",
    "import math\n",
    "pi = math.pi\n",
    "r = 10\n",
    "area = pi * r ** 2\n",
    "print(\"area = \", area)"
   ]
  },
  {
   "cell_type": "markdown",
   "metadata": {},
   "source": [
    "## Integer division"
   ]
  },
  {
   "cell_type": "code",
   "execution_count": null,
   "metadata": {},
   "outputs": [],
   "source": [
    "# Which are the expected results for the following operations?\n",
    "print(\"9 % 3: \", 9 % 3)\n",
    "print(\"14 % 2: \", 14 % 2)\n",
    "print(\"14 % 3: \", 14 % 3)\n",
    "print(\"9 // 3: \" , 9 // 3)\n",
    "print(\"14 // 2: \", 14 // 2)\n",
    "print(\"14 % 3: \", 14 // 2)"
   ]
  },
  {
   "cell_type": "markdown",
   "metadata": {},
   "source": [
    "Find out if the numbers 10938 and 9893 are divisible by 3."
   ]
  },
  {
   "cell_type": "code",
   "execution_count": null,
   "metadata": {},
   "outputs": [],
   "source": [
    "# Find out if the numbers 10938 and 9893 are divisible by 3.\n",
    "print(\"10938 % 3: \", 10938 % 3)\n",
    "print(\"9893 % 3: \", 9893 % 3)\n"
   ]
  },
  {
   "cell_type": "markdown",
   "metadata": {},
   "source": [
    "## Common unary operators"
   ]
  },
  {
   "cell_type": "markdown",
   "metadata": {},
   "source": [
    "There are other unary operators, like **-=**, **\\*=**, **\\\\=** but they are not used as much."
   ]
  },
  {
   "cell_type": "code",
   "execution_count": null,
   "metadata": {},
   "outputs": [],
   "source": [
    "# Transform this operations by using unary operators\n",
    "\n",
    "my_age = 42\n",
    "my_age += 1\n",
    "print(\"After my birthday, my age will be\", my_age)\n",
    "\n",
    "number_of_items = 10\n",
    "number_of_items -= 1\n",
    "print(\"After selling an item, the number of items will be\", number_of_items)"
   ]
  },
  {
   "cell_type": "code",
   "execution_count": null,
   "metadata": {},
   "outputs": [],
   "source": [
    "# Which would be the expected result of the following operations?\n",
    "a = 2\n",
    "a += 3\n",
    "a *= 5\n",
    "a /= 5\n",
    "a -= 3\n",
    "print(\"a: \", a)"
   ]
  },
  {
   "cell_type": "markdown",
   "metadata": {},
   "source": [
    "## Operations with text strings"
   ]
  },
  {
   "cell_type": "code",
   "execution_count": null,
   "metadata": {},
   "outputs": [],
   "source": [
    "# Does the following code give the expected result?\n",
    "print(\"gata\" in \"cagtcagGATAtctagtcgta\")"
   ]
  }
 ],
 "metadata": {
  "kernelspec": {
   "display_name": ".venv",
   "language": "python",
   "name": "python3"
  },
  "language_info": {
   "codemirror_mode": {
    "name": "ipython",
    "version": 3
   },
   "file_extension": ".py",
   "mimetype": "text/x-python",
   "name": "python",
   "nbconvert_exporter": "python",
   "pygments_lexer": "ipython3",
   "version": "3.12.5"
  }
 },
 "nbformat": 4,
 "nbformat_minor": 2
}
