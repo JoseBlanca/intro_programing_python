{
 "cells": [
  {
   "cell_type": "markdown",
   "metadata": {},
   "source": [
    "# Types"
   ]
  },
  {
   "cell_type": "markdown",
   "metadata": {},
   "source": [
    "We can ask for the type of variable (or object)."
   ]
  },
  {
   "cell_type": "markdown",
   "metadata": {},
   "source": [
    "The main practical limitation, besides the inherent error due to the approximation, of the floating point arithmetic is that you have to be careful when you compare floats."
   ]
  },
  {
   "cell_type": "markdown",
   "metadata": {},
   "source": [
    "## Other types: bool and None\n",
    "\n",
    "bool ([boolean](https://en.wikipedia.org/wiki/Boolean_data_type)) is a special type that can only have two values: True or False."
   ]
  },
  {
   "cell_type": "markdown",
   "metadata": {},
   "source": [
    "Another special type that you will find quite often in Python code is None. This type can only have one value: None. It is usally employed when you want to have a variable that still has no value, it signifies that it is empty."
   ]
  },
  {
   "cell_type": "markdown",
   "metadata": {},
   "source": [
    "## Type casting"
   ]
  },
  {
   "cell_type": "markdown",
   "metadata": {},
   "source": [
    "Find out which int and str values will be True and False when converted to boolean."
   ]
  },
  {
   "cell_type": "code",
   "execution_count": null,
   "metadata": {},
   "outputs": [],
   "source": [
    "# All integers, but zero are considered True\n",
    "print(0, bool(0))\n",
    "print(1, bool(1))\n",
    "print(-1, bool(-1))\n",
    "print(42, bool(42))\n",
    "\n",
    "# All str, but the empty one are considered True\n",
    "print(\"\", bool(\"\"))\n",
    "print(\" \", bool(\" \"))\n",
    "print(\"0\",  bool(\"0\"))\n",
    "print(\"False\", bool(\"False\"))\n",
    "print(\"Hello\", bool(\"Hello\"))"
   ]
  },
  {
   "cell_type": "markdown",
   "metadata": {},
   "source": [
    "Try to convert a boolean to integer."
   ]
  },
  {
   "cell_type": "code",
   "execution_count": null,
   "metadata": {},
   "outputs": [],
   "source": [
    "print(True, int(True))\n",
    "print(False, int(False))\n"
   ]
  }
 ],
 "metadata": {
  "kernelspec": {
   "display_name": ".venv",
   "language": "python",
   "name": "python3"
  },
  "language_info": {
   "codemirror_mode": {
    "name": "ipython",
    "version": 3
   },
   "file_extension": ".py",
   "mimetype": "text/x-python",
   "name": "python",
   "nbconvert_exporter": "python",
   "pygments_lexer": "ipython3",
   "version": "3.12.5"
  }
 },
 "nbformat": 4,
 "nbformat_minor": 2
}
