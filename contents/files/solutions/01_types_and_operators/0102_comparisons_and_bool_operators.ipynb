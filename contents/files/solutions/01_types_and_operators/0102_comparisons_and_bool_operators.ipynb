{
 "cells": [
  {
   "cell_type": "markdown",
   "metadata": {},
   "source": [
    "# Comparisons and boolean operators"
   ]
  },
  {
   "cell_type": "markdown",
   "metadata": {},
   "source": [
    "## Comparisons"
   ]
  },
  {
   "cell_type": "code",
   "execution_count": null,
   "metadata": {},
   "outputs": [],
   "source": [
    "# Which would be the expected result of the following operations?\n",
    "print(\"1 == 1\", 1 == 1)\n",
    "print(\"1 == 2\", 1 == 2)\n",
    "print(\"1 != 2\", 1 != 2)\n",
    "print(\"1 < 2\", 1 < 2)\n",
    "print(\"1 > 2\", 1 > 2)\n",
    "print(\"1 <= 2\", 1 > 2)"
   ]
  },
  {
   "cell_type": "markdown",
   "metadata": {},
   "source": [
    "It is very important to understand the difference between the assingment operator (**=**) and the comparison operator (**==**).\n",
    "The assigment operator is used to assign a value (an object) to a variable, whereas the comparison operator is used to find out if two objects are the same or not."
   ]
  },
  {
   "cell_type": "code",
   "execution_count": null,
   "metadata": {},
   "outputs": [],
   "source": [
    "# Fix this code\n",
    "\n",
    "name1 = \"John\"\n",
    "name2 = \"John\"\n",
    "print(name1 == name2)"
   ]
  },
  {
   "cell_type": "markdown",
   "metadata": {},
   "source": [
    "There is a catch with the floats. It is OK to check if they are greater or lower, but do not use the equality operator (**==**) to check if they are the same because the comparison might fail. Remember that floats are approximate.\n",
    "If you want to check if two floats are very similar you have to use the [isclose](https://docs.python.org/3/library/math.html#math.isclose) function. This function is not directly avilable, you have to import it from the math module, we will work with modules in the future."
   ]
  },
  {
   "cell_type": "code",
   "execution_count": null,
   "metadata": {},
   "outputs": [],
   "source": [
    "from math import isclose\n",
    "\n",
    "print(isclose(1.0, 1.0000000000000001))\n",
    "\n",
    "# Fix the following code\n",
    "\n",
    "print(isclose(2.0, 2))"
   ]
  },
  {
   "cell_type": "code",
   "execution_count": null,
   "metadata": {},
   "outputs": [],
   "source": [
    "# create checks for the following operations\n",
    "print(\"0.1 + 0.1 = 0.2 -> \", 0.1 + 0.1 == 0.2)\n",
    "print(\"0.8 + 0.3 = 0.5 -> \", 0.8 + 0.3 == 0.5)\n",
    "print(\"0.1 + 0.3 = 0.03 -> \", 0.1 + 0.3 == 0.03)\n",
    "print(\"9 / 3 = 3 -> \", 9 / 3 == 3)\n",
    "print(\"4**3 = 64 -> \", 4**3 == 64)\n",
    "print(\"4**3  + 3**3 = 91 -> \", 4**3  + 3**3 == 91)\n",
    "print(\"(2 + 1) / 10 = 0.3 -> \", (2 + 1) / 10 == 0.3)\n",
    "print(\"0.2 + 0.1 = 0.3 -> \", 0.2 + 0.1 == 0.3)"
   ]
  },
  {
   "cell_type": "markdown",
   "metadata": {},
   "source": [
    "## Operations with booleans"
   ]
  },
  {
   "cell_type": "code",
   "execution_count": null,
   "metadata": {},
   "outputs": [],
   "source": [
    "# Which would be the result of the following operations?\n",
    "print(\"True or False: \", True or False)\n",
    "print(\"True and False: \", True and False)\n",
    "print(\"True and not False: \", True and not False)\n",
    "print(\"4 <= 4 and True: \", 4 <= 4 and True)\n",
    "print(\"3 > 2 and 4 > 8: \", 3 > 2 and 4 > 8)\n",
    "print(\"3 > 2 or 4 > 8: \", 3 > 2 or 4 > 8)"
   ]
  },
  {
   "cell_type": "markdown",
   "metadata": {},
   "source": [
    "Explore the boolean arithmetic which are the results for all the combinations of **and** and **or**."
   ]
  },
  {
   "cell_type": "code",
   "execution_count": null,
   "metadata": {},
   "outputs": [],
   "source": [
    "print(\"True and True: \", True and True)\n",
    "print(\"True and False: \", True and False)\n",
    "print(\"False and True: \", False and True)\n",
    "print(\"False and False: \", False and False)\n",
    "print(\"True or True: \", True or True)\n",
    "print(\"True or False: \", True or False)\n",
    "print(\"False or True: \", False or True)\n",
    "print(\"False or False: \", False or False)"
   ]
  }
 ],
 "metadata": {
  "kernelspec": {
   "display_name": ".venv",
   "language": "python",
   "name": "python3"
  },
  "language_info": {
   "codemirror_mode": {
    "name": "ipython",
    "version": 3
   },
   "file_extension": ".py",
   "mimetype": "text/x-python",
   "name": "python",
   "nbconvert_exporter": "python",
   "pygments_lexer": "ipython3",
   "version": "3.12.5"
  }
 },
 "nbformat": 4,
 "nbformat_minor": 2
}
