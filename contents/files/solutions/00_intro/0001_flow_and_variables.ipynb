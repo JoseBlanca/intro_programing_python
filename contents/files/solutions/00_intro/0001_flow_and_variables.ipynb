{
 "cells": [
  {
   "cell_type": "markdown",
   "metadata": {},
   "source": [
    "# Flow and variables"
   ]
  },
  {
   "cell_type": "markdown",
   "metadata": {},
   "source": [
    "## Flow"
   ]
  },
  {
   "cell_type": "markdown",
   "metadata": {},
   "source": [
    "\n",
    "Order the lines in the following code, we want the computer to first say Hello, then Your Name, and, finally, an invitation to play.\n"
   ]
  },
  {
   "cell_type": "code",
   "execution_count": null,
   "metadata": {},
   "outputs": [],
   "source": [
    "print(\"Hello\")\n",
    "print(\"Jose\")\n",
    "print(\"Do you want to play a nice game of chess?\")"
   ]
  },
  {
   "cell_type": "markdown",
   "metadata": {},
   "source": [
    "## Create and print variables\n",
    "\n",
    "Create two variables, one with your name, and another one with your surname and print them."
   ]
  },
  {
   "cell_type": "code",
   "execution_count": null,
   "metadata": {},
   "outputs": [],
   "source": [
    "# Fix this code, by providing a name and surname\n",
    "\n",
    "name = \"John\"\n",
    "surname = \"Doe\"\n",
    "\n",
    "print(\"Hello \", name, \" \", surname)"
   ]
  },
  {
   "cell_type": "markdown",
   "metadata": {},
   "source": [
    "## Change the value of a variable\n",
    "\n",
    "The variables can be changed to refer to different values/objects.\n",
    "Fix the program to show your real name by changing the value of the variable."
   ]
  },
  {
   "cell_type": "code",
   "execution_count": null,
   "metadata": {},
   "outputs": [],
   "source": [
    "name = \"Jose\"\n",
    "name = \"John\"\n",
    "\n",
    "print(\"My name is \", name)"
   ]
  },
  {
   "cell_type": "markdown",
   "metadata": {},
   "source": [
    "Fix the following code to print the correct name of your Pokemons."
   ]
  },
  {
   "cell_type": "code",
   "execution_count": null,
   "metadata": {},
   "outputs": [],
   "source": [
    "my_pokemon = \"Pikachu\"\n",
    "your_pokemon = \"Ampharos\"\n",
    "print(\"My favorite pokemon is \", my_pokemon)\n",
    "print(\"Your favorite pokemon is \", your_pokemon)"
   ]
  },
  {
   "cell_type": "markdown",
   "metadata": {},
   "source": [
    "Write the name and year of release of a movie using two variables."
   ]
  },
  {
   "cell_type": "code",
   "execution_count": null,
   "metadata": {},
   "outputs": [],
   "source": [
    "# write here the code to print the name and year of a movie\n",
    "movie = \"The Matrix\"\n",
    "year = 1999\n",
    "\n",
    "print(\"The movie \", movie, \" was released in \", year)"
   ]
  }
 ],
 "metadata": {
  "kernelspec": {
   "display_name": ".venv",
   "language": "python",
   "name": "python3"
  },
  "language_info": {
   "codemirror_mode": {
    "name": "ipython",
    "version": 3
   },
   "file_extension": ".py",
   "mimetype": "text/x-python",
   "name": "python",
   "nbconvert_exporter": "python",
   "pygments_lexer": "ipython3",
   "version": "3.12.5"
  }
 },
 "nbformat": 4,
 "nbformat_minor": 2
}
