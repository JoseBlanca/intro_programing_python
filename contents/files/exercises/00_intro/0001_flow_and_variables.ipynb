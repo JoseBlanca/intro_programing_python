{
 "cells": [
  {
   "cell_type": "markdown",
   "metadata": {},
   "source": [
    "# Flow and variables"
   ]
  },
  {
   "cell_type": "markdown",
   "metadata": {},
   "source": [
    "## Flow\n",
    "\n",
    "The computer code is execute one line (or statement) at a time.\n",
    "The order in which the lines are executed is called flow.\n",
    "\n",
    "Order the lines in the following code, we want the computer to first say Hello, then Your Name, and, finally, an invitation to play.\n"
   ]
  },
  {
   "cell_type": "code",
   "execution_count": null,
   "metadata": {},
   "outputs": [],
   "source": [
    "print(\"Your Name\")\n",
    "print(\"Do you want to play a nice game of chess?\")\n",
    "\n",
    "print(\"Hello\")"
   ]
  },
  {
   "cell_type": "markdown",
   "metadata": {},
   "source": [
    "## Variables\n",
    "\n",
    "When we run programs we store information in the memory of the computer for later use. This is a fundamental idea in computers.\n",
    "You can think about the memory of a computer as a file cabinet in which we can store values like numbers and strings of letters.\n",
    "Internally the memory is divided in small pieces, like the drawers of a filing cabinet, and the computer assings a numeric adress to each of those drawers. So, for instance, we could tell the computer to store the number 42 in the address 00000100, but it would be very cumbersome to use these numeric addresses, so, instead, the we use [variables](https://en.wikipedia.org/wiki/Variable_(computer_science)), names that we create, to refer to the memory locations and contents.\n",
    "\n",
    "In different programming languages and expressions a variable can refer to the value stored or to the memory address ([pointer](https://en.wikipedia.org/wiki/Pointer_(computer_programming))). In Python a variable will always be a reference to the object stored. You can think of it as a label in the file cabinet drawer or an arrow that points to the content of the drawer.\n",
    "\n",
    "![Value stored in a variable](../../images/memory_and_variables.png \"Value stored in a variable\")\n",
    "\n",
    "In Python we store a variable in memory by using the assigment operator **=**.\n"
   ]
  },
  {
   "cell_type": "code",
   "execution_count": null,
   "metadata": {},
   "outputs": [],
   "source": [
    "favorite_number = 42\n",
    "print(favorite_number)"
   ]
  },
  {
   "cell_type": "markdown",
   "metadata": {},
   "source": [
    "## Create and print variables\n",
    "\n",
    "Create two variables, one with your name, and another one with your surname and print them."
   ]
  },
  {
   "cell_type": "code",
   "execution_count": null,
   "metadata": {},
   "outputs": [],
   "source": [
    "# Fix this code, but providing a name and surname\n",
    "\n",
    "name = \n",
    "surname =\n",
    "\n",
    "print(\"Hello \", name, \" \", surname)"
   ]
  },
  {
   "cell_type": "markdown",
   "metadata": {},
   "source": [
    "## Resources\n",
    "\n",
    "- [Variables in Python](https://realpython.com/python-variables/) in Real Python."
   ]
  }
 ],
 "metadata": {
  "kernelspec": {
   "display_name": ".venv",
   "language": "python",
   "name": "python3"
  },
  "language_info": {
   "codemirror_mode": {
    "name": "ipython",
    "version": 3
   },
   "file_extension": ".py",
   "mimetype": "text/x-python",
   "name": "python",
   "nbconvert_exporter": "python",
   "pygments_lexer": "ipython3",
   "version": "3.12.5"
  }
 },
 "nbformat": 4,
 "nbformat_minor": 2
}
