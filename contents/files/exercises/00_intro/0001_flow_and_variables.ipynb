{
 "cells": [
  {
   "cell_type": "markdown",
   "metadata": {},
   "source": [
    "# Flow and variables"
   ]
  },
  {
   "cell_type": "markdown",
   "metadata": {},
   "source": [
    "## Flow\n",
    "\n",
    "The computer code is execute one line (or statement) at a time.\n",
    "The order in which the lines are executed is called flow."
   ]
  },
  {
   "cell_type": "code",
   "execution_count": null,
   "metadata": {},
   "outputs": [],
   "source": [
    "print(\"This line will be executed first.\")\n",
    "print(\"This line will be executed second.\")\n",
    "print(\"This line will be executed last.\")"
   ]
  },
  {
   "cell_type": "markdown",
   "metadata": {},
   "source": [
    "\n",
    "Order the lines in the following code, we want the computer to first say Hello, then Your Name, and, finally, an invitation to play.\n"
   ]
  },
  {
   "cell_type": "code",
   "execution_count": null,
   "metadata": {},
   "outputs": [],
   "source": [
    "print(\"Your Name\")\n",
    "print(\"Do you want to play a nice game of chess?\")\n",
    "\n",
    "print(\"Hello\")"
   ]
  },
  {
   "cell_type": "markdown",
   "metadata": {},
   "source": [
    "## Variables\n",
    "\n",
    "When we run programs we store information in the memory of the computer for later use. This is a fundamental idea in computers.\n",
    "You can think about the memory of a computer as a file cabinet in which we can store values like numbers and strings of letters.\n",
    "Internally the memory is divided in small pieces, like the drawers of a filing cabinet, and the computer assings a numeric adress to each of those drawers. So, for instance, we could tell the computer to store the number 42 in the address 00000100, but it would be very cumbersome to use these numeric addresses, so, instead, the we use [variables](https://en.wikipedia.org/wiki/Variable_(computer_science)), names that we create, to refer to the memory locations and contents.\n",
    "\n",
    "In different programming languages and expressions a variable can refer to the value stored or to the memory address ([pointer](https://en.wikipedia.org/wiki/Pointer_(computer_programming))). In Python a variable will always be a reference to the object stored. You can think of it as a label in the file cabinet drawer or an arrow that points to the content of the drawer.\n",
    "\n",
    "![Value stored in a variable](../../images/memory_and_variables.png \"Value stored in a variable\")\n",
    "\n",
    "In Python we store a variable in memory by using the assigment operator **=**.\n"
   ]
  },
  {
   "cell_type": "code",
   "execution_count": null,
   "metadata": {},
   "outputs": [],
   "source": [
    "favorite_number = 42\n",
    "print(\"My favorite number is \", favorite_number)"
   ]
  },
  {
   "cell_type": "markdown",
   "metadata": {},
   "source": [
    "Python is doing quite a lot of things for us when we write \"favorite_number = 42\":\n",
    "\n",
    "  1. It reserves a space in the memory to be able to store the object that is going to create.\n",
    "  2. It creates the object 42.\n",
    "  3. It assigns the favorite_number variable as a reference to the created and stored object."
   ]
  },
  {
   "cell_type": "markdown",
   "metadata": {},
   "source": [
    "## Create and print variables\n",
    "\n",
    "Create two variables, one with your name, and another one with your surname and print them."
   ]
  },
  {
   "cell_type": "code",
   "execution_count": null,
   "metadata": {},
   "outputs": [],
   "source": [
    "# Fix this code, by providing a name and surname\n",
    "\n",
    "name = \n",
    "surname =\n",
    "\n",
    "print(\"Hello \", name, \" \", surname)"
   ]
  },
  {
   "cell_type": "markdown",
   "metadata": {},
   "source": [
    "## Change the value of a variable\n",
    "\n",
    "The variables can be changed to refer to different values/objects.\n",
    "Fix the program to show your real name by changing the value of the variable."
   ]
  },
  {
   "cell_type": "code",
   "execution_count": null,
   "metadata": {},
   "outputs": [],
   "source": [
    "name = \"Jose\"\n",
    "name = \n",
    "\n",
    "print(\"My name is \", name)"
   ]
  },
  {
   "cell_type": "markdown",
   "metadata": {},
   "source": [
    "Given the following code, think about the expected output, what will the program print when you execute it?"
   ]
  },
  {
   "cell_type": "code",
   "execution_count": null,
   "metadata": {},
   "outputs": [],
   "source": [
    "name = \"FALKEN\"\n",
    "name = \"SNAPE\"\n",
    "print(name)\n",
    "name = \"FALKEN\"\n",
    "print(name)"
   ]
  },
  {
   "cell_type": "markdown",
   "metadata": {},
   "source": [
    "Fix the following code to print the correct name of your Pokemons."
   ]
  },
  {
   "cell_type": "code",
   "execution_count": null,
   "metadata": {},
   "outputs": [],
   "source": [
    "my_pokemon = \"Pikachu\"\n",
    "your_pokemon = \"Ampharos\"\n",
    "print(\"My favorite pokemon is \", \"my_pokemon\")\n",
    "print(\"Your favorite pokemon is \", \"your_pokemon\")"
   ]
  },
  {
   "cell_type": "markdown",
   "metadata": {},
   "source": [
    "It is very importan to understand the difference between variables and text:\n",
    "  - variable names are not enclosed by quotes."
   ]
  },
  {
   "cell_type": "code",
   "execution_count": null,
   "metadata": {},
   "outputs": [],
   "source": [
    "a_variable = 42\n",
    "\"a_text_string\""
   ]
  },
  {
   "cell_type": "markdown",
   "metadata": {},
   "source": [
    "Write the name and year of release of a movie using two variables."
   ]
  },
  {
   "cell_type": "code",
   "execution_count": null,
   "metadata": {},
   "outputs": [],
   "source": [
    "# write here the code to print the name and year of a movie"
   ]
  },
  {
   "cell_type": "markdown",
   "metadata": {},
   "source": [
    "## Resources\n",
    "\n",
    "- [Variables in Python](https://realpython.com/python-variables/) in Real Python.\n",
    "- [print](https://docs.python.org/3/library/functions.html#print) function official documentation.\n",
    "- A [print](https://realpython.com/python-print/) function tutorial in Real Python."
   ]
  }
 ],
 "metadata": {
  "kernelspec": {
   "display_name": ".venv",
   "language": "python",
   "name": "python3"
  },
  "language_info": {
   "codemirror_mode": {
    "name": "ipython",
    "version": 3
   },
   "file_extension": ".py",
   "mimetype": "text/x-python",
   "name": "python",
   "nbconvert_exporter": "python",
   "pygments_lexer": "ipython3",
   "version": "3.12.5"
  }
 },
 "nbformat": 4,
 "nbformat_minor": 2
}
