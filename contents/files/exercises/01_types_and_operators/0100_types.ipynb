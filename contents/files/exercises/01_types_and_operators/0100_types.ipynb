{
 "cells": [
  {
   "cell_type": "markdown",
   "metadata": {},
   "source": [
    "# Types\n",
    "\n",
    "In a computer language the variables have [types](https://en.wikipedia.org/wiki/Data_type). For instance, we have already used numbers and text strings."
   ]
  },
  {
   "cell_type": "code",
   "execution_count": null,
   "metadata": {},
   "outputs": [],
   "source": [
    "my_number = 42\n",
    "text = \"My favorite number is\"\n",
    "print(text, my_number)"
   ]
  },
  {
   "cell_type": "markdown",
   "metadata": {},
   "source": [
    "We can ask for the type of variable (or object)."
   ]
  },
  {
   "cell_type": "code",
   "execution_count": null,
   "metadata": {},
   "outputs": [],
   "source": [
    "number = 42\n",
    "print(type(number))\n",
    "print(type(\"42\"))"
   ]
  },
  {
   "cell_type": "markdown",
   "metadata": {},
   "source": [
    "The type for the string is str. In most computer languages the text is called string or something similar because for the computer a text is a [string of characters](https://en.wikipedia.org/wiki/String_(computer_science))."
   ]
  },
  {
   "cell_type": "markdown",
   "metadata": {},
   "source": [
    "## Number types: int and float\n",
    "\n",
    "In the previous example the type for the number was int ([integer](https://en.wikipedia.org/wiki/Integer_(computer_science))), but, in python, and most other languages, we have another very important numeric type: float ([floating point number](https://en.wikipedia.org/wiki/Floating-point_arithmetic))."
   ]
  },
  {
   "cell_type": "code",
   "execution_count": null,
   "metadata": {},
   "outputs": [],
   "source": [
    "integer = 42\n",
    "floating_point = 42.0\n",
    "print(type(integer))\n",
    "print(type(floating_point))"
   ]
  },
  {
   "cell_type": "markdown",
   "metadata": {},
   "source": [
    "The main practical difference between the integer and float types is that the arithmetic for integers will be exact, but for float will be only approximate. This is not a Python quirk, but a general feature of the computers."
   ]
  },
  {
   "cell_type": "code",
   "execution_count": null,
   "metadata": {},
   "outputs": [],
   "source": [
    "number = 0.1 + 0.1 + 0.1 + 0.1 + 0.1 + 0.1 + 0.1 + 0.1 + 0.1 + 0.1\n",
    "print(f'{number:.50f}')"
   ]
  },
  {
   "cell_type": "markdown",
   "metadata": {},
   "source": [
    "The main practical limitation, besides the inherent error due to the approximation, of the floating point arithmetic is that you have to be careful when you compare floats."
   ]
  },
  {
   "cell_type": "code",
   "execution_count": null,
   "metadata": {},
   "outputs": [],
   "source": [
    "first_one = 0.1 + 0.1 + 0.1 + 0.1 + 0.1 + 0.1 + 0.1 + 0.1 + 0.1 + 0.1\n",
    "second_one = 1.0\n",
    "print(\"Are first and second one the same number?\", first_one == second_one)\n",
    "\n",
    "# But they are quite close\n",
    "import math\n",
    "print(\"Are first and second one close?\", math.isclose(first_one, second_one))\n",
    "\n",
    "# with integer we don't have this problem\n",
    "first_ten = 1 + 1 + 1 + 1 + 1 + 1 + 1 + 1 + 1 + 1\n",
    "second_ten = 10\n",
    "print(\"Are first and second ten the same number?\", first_ten == second_ten)\n"
   ]
  },
  {
   "cell_type": "markdown",
   "metadata": {},
   "source": [
    "## Other types: bool and None\n",
    "\n",
    "bool ([boolean](https://en.wikipedia.org/wiki/Boolean_data_type)) is a special type that can only have two values: True or False."
   ]
  },
  {
   "cell_type": "code",
   "execution_count": null,
   "metadata": {},
   "outputs": [],
   "source": [
    "i_am_learning = True\n",
    "print(type(i_am_learning), i_am_learning)\n",
    "i_am_not_here = False\n",
    "print(type(i_am_not_here), i_am_not_here)"
   ]
  },
  {
   "cell_type": "markdown",
   "metadata": {},
   "source": [
    "Another special type that you will find quite often in Python code is None. This type can only have one value: None. It is usally employed when you want to have a variable that still has no value, it signifies that it is empty."
   ]
  },
  {
   "cell_type": "code",
   "execution_count": null,
   "metadata": {},
   "outputs": [],
   "source": [
    "result_to_be_calculated = None\n",
    "print(type(result_to_be_calculated), result_to_be_calculated)\n",
    "# Now we can calculate the result\n",
    "result_to_be_calculated = 42\n",
    "print(result_to_be_calculated)"
   ]
  },
  {
   "cell_type": "markdown",
   "metadata": {},
   "source": [
    "## Python is dynamic\n",
    "\n",
    "In Python we don't need to specify the type of a variable before using it, and we can even change the type of object that the variable refers to. That is not the case in other languages, like C or Rust. In those static languages the compiler needs to know the type of the variable beforehand, and the type of a variable can not be changed."
   ]
  },
  {
   "cell_type": "code",
   "execution_count": null,
   "metadata": {},
   "outputs": [],
   "source": [
    "my_number = None\n",
    "print(type(my_number), my_number)\n",
    "my_number = 42\n",
    "print(type(my_number), my_number)\n",
    "my_number = \"42\"\n",
    "print(type(my_number), my_number)\n",
    "my_number = 42.0\n",
    "print(type(my_number), my_number)"
   ]
  },
  {
   "cell_type": "markdown",
   "metadata": {},
   "source": [
    "Modern Python has the option of specifying the types. This is not a requirement, but you will see some [type hints](https://docs.python.org/3/library/typing.html) in Python code."
   ]
  },
  {
   "cell_type": "code",
   "execution_count": null,
   "metadata": {},
   "outputs": [],
   "source": [
    "my_number: int = 42\n",
    "my_number: float = 42.0\n",
    "my_number: str = \"42\""
   ]
  },
  {
   "cell_type": "markdown",
   "metadata": {},
   "source": [
    "## Type casting\n",
    "\n",
    "[Type casting](https://en.wikipedia.org/wiki/Type_conversion) or type conversion is the action of changing one type into another.\n",
    "Python has functions to do this type casting."
   ]
  },
  {
   "cell_type": "code",
   "execution_count": null,
   "metadata": {},
   "outputs": [],
   "source": [
    "my_number = 42\n",
    "print(type(my_number), my_number)\n",
    "my_number = str(my_number)\n",
    "print(type(my_number), my_number)\n",
    "my_number = float(my_number)\n",
    "print(type(my_number), my_number)\n",
    "my_number = int(my_number)\n",
    "print(type(my_number), my_number)"
   ]
  },
  {
   "cell_type": "markdown",
   "metadata": {},
   "source": [
    "We can also type cast to boolean."
   ]
  },
  {
   "cell_type": "code",
   "execution_count": null,
   "metadata": {},
   "outputs": [],
   "source": [
    "print(bool(42))\n",
    "print(bool(0))\n",
    "print(bool(\"42\"))"
   ]
  },
  {
   "cell_type": "markdown",
   "metadata": {},
   "source": [
    "Find out which int and str values will be True and False when converted to boolean."
   ]
  },
  {
   "cell_type": "code",
   "execution_count": null,
   "metadata": {},
   "outputs": [],
   "source": [
    "print(bool(value to test))"
   ]
  },
  {
   "cell_type": "markdown",
   "metadata": {},
   "source": [
    "Try to convert a boolean to integer."
   ]
  },
  {
   "cell_type": "code",
   "execution_count": null,
   "metadata": {},
   "outputs": [],
   "source": [
    "# what would be the result of converting the boolean values to integers?\n"
   ]
  },
  {
   "cell_type": "markdown",
   "metadata": {},
   "source": [
    "## Why do we need types?\n",
    "\n",
    "For a programming language using types is unavoidable. Different languages have different types, but they all have types. Why? Because, internally, the only thing that a computer can really store in memory is a binary number, and the same binary number can be interpreted as different objects depending on its type."
   ]
  },
  {
   "cell_type": "code",
   "execution_count": null,
   "metadata": {},
   "outputs": [],
   "source": [
    "print(\"The same binary number can represented an integer or a string, depending on its type\")\n",
    "binary_number = 0b110100\n",
    "print(\"The binary number is an integer that is usually printed in the decial number system:\", binary_number)\n",
    "as_a_string = chr(binary_number)\n",
    "print(\"The binary number as a string:\", as_a_string)\n",
    "\n",
    "print(\"The number 4 as an integer and as a string be stored by the computer in different ways\")\n",
    "an_object = 4\n",
    "print(f\"The binary representation for {an_object} is: {an_object:b}\")\n",
    "another_object = \"4\"\n",
    "print(f\"The binary representation for {another_object} is: {ord(another_object):b}\")"
   ]
  },
  {
   "cell_type": "markdown",
   "metadata": {},
   "source": [
    "## Resources\n",
    "\n",
    "- Real Python tutorial: [basic data types](https://realpython.com/python-data-types/)\n",
    "- Official documentation: [types and operations](https://docs.python.org/3/library/stdtypes.html).\n",
    "- Basic introduction to [type and variables](https://github.com/JoseBlanca/py_industriales/blob/main/python/tipos_y_variables.ipynb), [str](https://github.com/JoseBlanca/py_industriales/blob/main/python/cadenas_de_texto.ipynb) and  [booleans](https://github.com/JoseBlanca/py_industriales/blob/main/python/booleanos.ipynb). (In Spanish).\n",
    "- [type](https://docs.python.org/3/library/functions.html#type) function official documentation.\n",
    "- Real Python introduction to [numbers](https://realpython.com/python-numbers/) and [bool](https://realpython.com/python-boolean/).\n",
    "- A discussion about the [floating point arithmethic](https://docs.python.org/3/tutorial/floatingpoint.html) in Python.\n"
   ]
  }
 ],
 "metadata": {
  "kernelspec": {
   "display_name": ".venv",
   "language": "python",
   "name": "python3"
  },
  "language_info": {
   "codemirror_mode": {
    "name": "ipython",
    "version": 3
   },
   "file_extension": ".py",
   "mimetype": "text/x-python",
   "name": "python",
   "nbconvert_exporter": "python",
   "pygments_lexer": "ipython3",
   "version": "3.12.5"
  }
 },
 "nbformat": 4,
 "nbformat_minor": 2
}
