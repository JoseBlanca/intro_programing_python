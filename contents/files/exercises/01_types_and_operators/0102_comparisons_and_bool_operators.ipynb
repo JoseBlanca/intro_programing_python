{
 "cells": [
  {
   "cell_type": "markdown",
   "metadata": {},
   "source": [
    "# Comparisons and boolean operators"
   ]
  },
  {
   "cell_type": "markdown",
   "metadata": {},
   "source": [
    "## Comparisons\n",
    "\n",
    "A critical part of any programming language is the comparison between items.\n",
    "For instance, is a number equal to the result of an operation? Is is bigger or maybe smaller?\n",
    "Some of the operators used are: equal (**==**), less than (**<**), greater than (**>**), not equal (**!=**), less or equal (**<=**), greater or equal (**>**)."
   ]
  },
  {
   "cell_type": "code",
   "execution_count": null,
   "metadata": {},
   "outputs": [],
   "source": [
    "# Which would be the expected result of the following operations?\n",
    "print(\"1 == 1\", 1 == 1)\n",
    "# 1 == 2\n",
    "# 1 != 2\n",
    "# 1 < 2\n",
    "# 1 > 2\n",
    "#1 <= 2"
   ]
  },
  {
   "cell_type": "markdown",
   "metadata": {},
   "source": [
    "It is very important to understand the difference between the assingment operator (**=**) and the comparison operator (**==**).\n",
    "The assigment operator is used to assign a value (an object) to a variable, whereas the comparison operator is used to find out if two objects are the same or not."
   ]
  },
  {
   "cell_type": "code",
   "execution_count": null,
   "metadata": {},
   "outputs": [],
   "source": [
    "# Fix this code\n",
    "\n",
    "name1 = \"John\"\n",
    "name2 = \"John\"\n",
    "print(a = b)"
   ]
  },
  {
   "cell_type": "markdown",
   "metadata": {},
   "source": [
    "There is a catch with the floats. It is OK to check if they are greater or lower, but do not use the equality operator (**==**) to check if they are the same because the comparison might fail. Remember that floats are approximate.\n",
    "If you want to check if two floats are very similar you have to use the [isclose](https://docs.python.org/3/library/math.html#math.isclose) function. This function is not directly avilable, you have to import it from the math module, we will work with modules in the future."
   ]
  },
  {
   "cell_type": "code",
   "execution_count": null,
   "metadata": {},
   "outputs": [],
   "source": [
    "from math import isclose\n",
    "\n",
    "print(isclose(1.0, 1.0000000000000001))\n",
    "\n",
    "# Fix the following code\n",
    "\n",
    "print(2.0 == 2)"
   ]
  },
  {
   "cell_type": "code",
   "execution_count": null,
   "metadata": {},
   "outputs": [],
   "source": [
    "# create checks for the following operations\n",
    "print(\"0.1 + 0.1 = 0.2\", 0.1 + 0.1 == 0.2)\n",
    "# 0.8 - 0.3 = 0.5\n",
    "# 0.1 x 0.3 = 0.03\n",
    "# 9 /3 = 3\n",
    "# 4**3= 64\n",
    "# 4**3  + 3**3 = 91\n",
    "# (2+1)/10 = 0.3\n",
    "# 0.2 + 0.1 = 0.3"
   ]
  },
  {
   "cell_type": "markdown",
   "metadata": {},
   "source": [
    "None represents another special case. You might check if a variable is None using the equality operator, but is it recommended to use the **is** operator."
   ]
  },
  {
   "cell_type": "code",
   "execution_count": null,
   "metadata": {},
   "outputs": [],
   "source": [
    "a = None\n",
    "\n",
    "# This will print True, but is it not reccomended to use == with None\n",
    "print(\"a == None\", a == None)\n",
    "\n",
    "# This is the correct way to check if a variable is None\n",
    "print(\"a is None\", a is None)\n",
    "\n",
    "# if you want to check if a variable is not None, you can use the following\n",
    "b = \"\"\n",
    "print(\"b is not None\", b is not None)\n",
    "print(\"a is not None\", a is not None)"
   ]
  },
  {
   "cell_type": "markdown",
   "metadata": {},
   "source": [
    "## Operations with booleans\n",
    "\n",
    "The boolean type has special operators: *and*, *or*, *not*. These operators define a [boolean arithmetic](https://en.wikipedia.org/wiki/Boolean_algebra)."
   ]
  },
  {
   "cell_type": "code",
   "execution_count": null,
   "metadata": {},
   "outputs": [],
   "source": [
    "three_is_positive = True\n",
    "three_is_odd = True\n",
    "print(\"positive and odd: \", three_is_positive and three_is_odd)\n",
    "print(\"positive or odd: \", three_is_positive or three_is_odd)\n",
    "\n",
    "three_is_negative = not three_is_positive\n",
    "print(\"three is negative: \", three_is_negative)\n",
    "\n",
    "print(\"negative or even: \", (not three_is_positive) or (not three_is_odd))"
   ]
  },
  {
   "cell_type": "code",
   "execution_count": null,
   "metadata": {},
   "outputs": [],
   "source": [
    "# Which would be the result of the following operations?\n",
    "print(\"True or False: \", True or False)\n",
    "# True and False\n",
    "# True and not False\n",
    "# 4 <= 4 and True\n",
    "# 3 > 2 and 4 > 8\n",
    "# 3 > 2 or 4 > 8"
   ]
  },
  {
   "cell_type": "markdown",
   "metadata": {},
   "source": [
    "Explore the boolean arithmetic which are the results for all the combinations of **and** and **or**."
   ]
  },
  {
   "cell_type": "code",
   "execution_count": null,
   "metadata": {},
   "outputs": [],
   "source": [
    "print(\"True and True: \", True and True)\n",
    "print(\"True and False: \", True and False)\n",
    "# and so on ...\n"
   ]
  },
  {
   "cell_type": "markdown",
   "metadata": {},
   "source": [
    "# Resources\n",
    "\n",
    "- Official documentation on [boolean operators](https://docs.python.org/3/library/stdtypes.html) for the built-in types.\n",
    "- Real python tutorial on [boolean operators](https://realpython.com/python-and-operator/)."
   ]
  }
 ],
 "metadata": {
  "kernelspec": {
   "display_name": ".venv",
   "language": "python",
   "name": "python3"
  },
  "language_info": {
   "codemirror_mode": {
    "name": "ipython",
    "version": 3
   },
   "file_extension": ".py",
   "mimetype": "text/x-python",
   "name": "python",
   "nbconvert_exporter": "python",
   "pygments_lexer": "ipython3",
   "version": "3.12.5"
  }
 },
 "nbformat": 4,
 "nbformat_minor": 2
}
