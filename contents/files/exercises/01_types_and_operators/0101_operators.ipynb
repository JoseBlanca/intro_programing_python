{
 "cells": [
  {
   "cell_type": "markdown",
   "metadata": {},
   "source": [
    "# Operators\n",
    "\n",
    "In any programming language we can do operations on data and, in most, for the basic operation a operator syntax is defined.\n",
    "\n",
    "## Basic numeric operations\n",
    "\n",
    "For instance, in Python we can sum to numbers using the **+** operator."
   ]
  },
  {
   "cell_type": "code",
   "execution_count": null,
   "metadata": {},
   "outputs": [],
   "source": [
    "a = 41\n",
    "b = a + 1\n",
    "print(b)"
   ]
  },
  {
   "cell_type": "markdown",
   "metadata": {},
   "source": [
    "With integers and floats we can use the basic arithmetic operators: **+**, **-**, **/**, **\\***, ."
   ]
  },
  {
   "cell_type": "code",
   "execution_count": null,
   "metadata": {},
   "outputs": [],
   "source": [
    "a = 2 + 2\n",
    "print(\"a\", a)\n",
    "b = 2 - 10\n",
    "print(\"b\", b)\n",
    "c = 2.0 * 3\n",
    "print(\"c\", c)\n",
    "d = 2 / 3\n",
    "print(\"d\", d)"
   ]
  },
  {
   "cell_type": "markdown",
   "metadata": {},
   "source": [
    "There is also an operator for power: **\\*\\***."
   ]
  },
  {
   "cell_type": "code",
   "execution_count": null,
   "metadata": {},
   "outputs": [],
   "source": [
    "print(2**8)"
   ]
  },
  {
   "cell_type": "code",
   "execution_count": null,
   "metadata": {},
   "outputs": [],
   "source": [
    "# calculate the area of a rectangle\n",
    "width = 20\n",
    "height = 5\n",
    "area =\n",
    "print(\"area = \", area)"
   ]
  },
  {
   "cell_type": "code",
   "execution_count": null,
   "metadata": {},
   "outputs": [],
   "source": [
    "# Calculate the area of a circle, remember that the area is pi * r^2\n",
    "pi = 3.14159\n",
    "# alternatively, we can get the value of pi directly from python\n",
    "import math\n",
    "pi = math.pi\n",
    "r = 10\n",
    "area =\n",
    "print(\"area = \", area)"
   ]
  },
  {
   "cell_type": "markdown",
   "metadata": {},
   "source": [
    "## Integer division\n",
    "\n",
    "For integers Python defines two other special operators: integer division (*//*), and remainder (**%**)."
   ]
  },
  {
   "cell_type": "code",
   "execution_count": null,
   "metadata": {},
   "outputs": [],
   "source": [
    "dividend = 10\n",
    "divisor = 3\n",
    "quotient = dividend // divisor\n",
    "remainder = dividend % divisor\n",
    "print(\"quotient\", quotient)\n",
    "print(\"remainder\", remainder)\n"
   ]
  },
  {
   "cell_type": "code",
   "execution_count": null,
   "metadata": {},
   "outputs": [],
   "source": [
    "# Which are the expected results for the following operations?\n",
    "# 9 % 3 \n",
    "# 14% 2\n",
    "# 14 % 3 \n",
    "# 9 // 3 \n",
    "# 14 //2\n",
    "# 14 % 3"
   ]
  },
  {
   "cell_type": "markdown",
   "metadata": {},
   "source": [
    "Find out if the numbers 10938 and 9893 are divisible by 3."
   ]
  },
  {
   "cell_type": "code",
   "execution_count": null,
   "metadata": {},
   "outputs": [],
   "source": [
    "# Find out if the numbers 10938 and 9893 are divisible by 3.\n"
   ]
  },
  {
   "cell_type": "markdown",
   "metadata": {},
   "source": [
    "## Common unary operators\n",
    "\n",
    "The operators that we have seen so far take two elements, for instance the add operator (**+**) takes two numbers and returns the sum of both. These operators are called binary because they take two elements.\n",
    "But there are also unary operators, that only act in one element. The one most commonly used is the **+=** operator."
   ]
  },
  {
   "cell_type": "code",
   "execution_count": null,
   "metadata": {},
   "outputs": [],
   "source": [
    "# These two operations are equivalent\n",
    "\n",
    "a = 10\n",
    "a = a + 1\n",
    "print(a)\n",
    "\n",
    "a = 10\n",
    "a += 1\n",
    "print(a)\n"
   ]
  },
  {
   "cell_type": "markdown",
   "metadata": {},
   "source": [
    "There are other unary operators, like **-=**, **\\*=**, **\\\\=** but they are not used as much."
   ]
  },
  {
   "cell_type": "code",
   "execution_count": null,
   "metadata": {},
   "outputs": [],
   "source": [
    "# Transform this operations by using unary operators\n",
    "\n",
    "my_age = 42\n",
    "my_age = my_age + 1\n",
    "print(\"After my birthday, my age will be\", my_age)\n",
    "\n",
    "number_of_items = 10\n",
    "number_of_items = number_of_items - 1\n",
    "print(\"After selling an item, the number of items will be\", number_of_items)"
   ]
  },
  {
   "cell_type": "code",
   "execution_count": null,
   "metadata": {},
   "outputs": [],
   "source": [
    "# Which would be the expected result of the following operations?\n",
    "# a = 2\n",
    "# a += 3\n",
    "# a *= 5\n",
    "# a /= 5\n",
    "# a -= 3"
   ]
  },
  {
   "cell_type": "markdown",
   "metadata": {},
   "source": [
    "## Operations with text strings\n",
    "\n",
    "Text strings can be added."
   ]
  },
  {
   "cell_type": "code",
   "execution_count": null,
   "metadata": {},
   "outputs": [],
   "source": [
    "print(\"Hello \" + \"Jane\")"
   ]
  },
  {
   "cell_type": "markdown",
   "metadata": {},
   "source": [
    "One confusing Python behaviour is that it will add two string even if there is no + sign between them. This is called string concatenation."
   ]
  },
  {
   "cell_type": "code",
   "execution_count": null,
   "metadata": {},
   "outputs": [],
   "source": [
    "print(\"Hello\" \"John\")"
   ]
  },
  {
   "cell_type": "markdown",
   "metadata": {},
   "source": [
    "The multiplication operation is also defined for str and int. It just repeats the string the given number of times."
   ]
  },
  {
   "cell_type": "code",
   "execution_count": null,
   "metadata": {},
   "outputs": [],
   "source": [
    "print(\"Hi!\" * 10)"
   ]
  },
  {
   "cell_type": "markdown",
   "metadata": {},
   "source": [
    "We could check is a string is included in another string by using the *in* operator."
   ]
  },
  {
   "cell_type": "code",
   "execution_count": null,
   "metadata": {},
   "outputs": [],
   "source": [
    "print(\"GATA\" in \"GCCGTATGCATGATATGCTAGCTAG\")"
   ]
  },
  {
   "cell_type": "code",
   "execution_count": null,
   "metadata": {},
   "outputs": [],
   "source": [
    "# Does the following code give the expected result?\n",
    "print(\"gata\" in \"cagtcagGATAtctagtcgta\")"
   ]
  },
  {
   "cell_type": "markdown",
   "metadata": {},
   "source": [
    "# Resources\n",
    "\n",
    "- Real python tutorial on [operators and statements](https://realpython.com/python-operators-expressions/).\n",
    "- Official documentation for [expressions and operators](https://docs.python.org/3/reference/expressions.html#binary-arithmetic-operations)."
   ]
  }
 ],
 "metadata": {
  "kernelspec": {
   "display_name": ".venv",
   "language": "python",
   "name": "python3"
  },
  "language_info": {
   "codemirror_mode": {
    "name": "ipython",
    "version": 3
   },
   "file_extension": ".py",
   "mimetype": "text/x-python",
   "name": "python",
   "nbconvert_exporter": "python",
   "pygments_lexer": "ipython3",
   "version": "3.12.5"
  }
 },
 "nbformat": 4,
 "nbformat_minor": 2
}
