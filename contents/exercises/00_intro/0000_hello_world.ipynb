{
 "cells": [
  {
   "cell_type": "markdown",
   "metadata": {},
   "source": [
    "# Hello world"
   ]
  },
  {
   "cell_type": "markdown",
   "metadata": {},
   "source": [
    "## Objectives\n",
    "\n",
    "The aim of this exercise is to learn how to write and execute Python code.\n",
    "\n",
    "## Rationale\n",
    "\n",
    "There are plenty of [programing languages](https://en.wikipedia.org/wiki/List_of_programming_languages), but all of them share some common principles.\n",
    "Computers execute [machine code](https://en.wikipedia.org/wiki/Machine_code), a binary set of instructions that are carried out by the computer processors, but usually human do not write binary machine code, or even [assembly language](https://en.wikipedia.org/wiki/Assembly_language), the written code directly translatable to machine code.\n",
    "\n",
    "Most of the time programers write code in languages that are easier to write and read by us, humans. These codes, in turn, have to be translated to machine code. This process of translation is called [compilation](https://en.wikipedia.org/wiki/Compiler). Compilation is a complex process that comprises several steps, and different compilers and programming languages divide theses steps differently.\n",
    "There are compilers, like the C or C++ compiles, that take the code and compile it into a binary executable that can be directly run in a computer, while there are other, like the Python [interpreter](https://en.wikipedia.org/wiki/Interpreter_(computing)) of the Java compiler, that are capable of running directly the human readable code that create an intermediate representation called [bytecode](https://en.wikipedia.org/wiki/Bytecode).\n",
    "In these cases we need to install the language interpreter to run the program. For instance, if you want to run a Java or Python program you will need to install Java or Python before.\n",
    "\n",
    "[Python](https://en.wikipedia.org/wiki/Python_(programming_language)) is an interpreted language, so, once you install Python you will be able to directly run Python code.\n",
    "However, you first need to have Python available in your computer.\n",
    "\n",
    "There are many ways of installing Python like:\n",
    "\n",
    "  - Downloading Python from [python.org](https://www.python.org/).\n",
    "  - Using the Windows store or the Linux packages already prepared.\n",
    "  - Using a Python version manager like [uv](https://docs.astral.sh/uv/).\n",
    "  - Having Python included in your web browser thanks to [Pyodide](https://pyodide.org/).\n",
    "\n",
    "In this exercise we are going to use [JupyterLite](https://jupyterlite.readthedocs.io/), a version of the [Jupyter](https://docs.jupyter.org/), a system that allows to write and run Python code directly in a web page, that does not require any previous installation because it already includes Python, thanks to Pyodide.\n",
    "\n",
    "The Notebook document is composed by cells, some are text (in markdown format), and others contain Python code that can be executed.\n",
    "To execute a Python cell:\n",
    "\n",
    "  - Select the cell that you want to execute.\n",
    "  - Click the play symbol on top of the page or press shift + enter.\n",
    "\n",
    "## Resources\n",
    "\n",
    "- Explanation of the Jupyter [Notebook interface](https://jupyter-notebook.readthedocs.io/en/stable/notebook.html#notebook-user-interface).\n",
    "- Real Python Jupyter [Notebook introduction](https://realpython.com/jupyter-notebook-introduction/).\n",
    "- Jupyter [Notebook tutorial](https://www.dataquest.io/blog/jupyter-notebook-tutorial/) by dataquest."
   ]
  },
  {
   "cell_type": "markdown",
   "metadata": {},
   "source": [
    "## Print Hello world"
   ]
  },
  {
   "cell_type": "code",
   "execution_count": null,
   "metadata": {},
   "outputs": [],
   "source": [
    "print(\"Hello world\")"
   ]
  },
  {
   "cell_type": "markdown",
   "metadata": {},
   "source": [
    "## Print Hello \"Your Name\""
   ]
  },
  {
   "cell_type": "code",
   "execution_count": null,
   "metadata": {},
   "outputs": [],
   "source": [
    "# Use this Notebook cell to write Python code capable of printing your name\n"
   ]
  },
  {
   "cell_type": "markdown",
   "metadata": {},
   "source": [
    "## Reload the original version of this file\n",
    "\n",
    "Once you change the file your web browser will remember these changes and might show to you the modified version even if your reload the page.\n",
    "If you want to revert to the orignal version of the file, just delete the file in the \"File Browser\" and reload the page.\n",
    "Do it now and revert to the original version of the file."
   ]
  },
  {
   "cell_type": "markdown",
   "metadata": {},
   "source": []
  }
 ],
 "metadata": {
  "language_info": {
   "name": "python"
  }
 },
 "nbformat": 4,
 "nbformat_minor": 2
}
