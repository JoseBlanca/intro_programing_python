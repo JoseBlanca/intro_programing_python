{
 "cells": [
  {
   "cell_type": "markdown",
   "metadata": {},
   "source": [
    "# An introduction to programming using Python\n",
    "\n",
    "This introduction to programming using Python is inspired by [rustlings](https://github.com/rust-lang/rustlings/), an exercise set aimed at teaching the Rust programming language.\n",
    "\n",
    "## Excercise index\n",
    "\n",
    "- [hello world](files/exercises/00_intro/0000_hello_world.ipynb)\n",
    "- [Flow and variables](files/exercises/00_intro/0001_flow_and_variables.ipynb)\n",
    "\n",
    "## Running Python in the web\n",
    "\n",
    "There are several sites that include Python in its web site and allow to run Python code:\n",
    "\n",
    "  - The [Future Coder IDE](https://futurecoder.io/course/#ide) allows to write, run and debug Python programs.\n",
    "  - In the [Pyodide REPL](https://pyodide.org/en/stable/console.html) the user can execute Python commands.\n",
    "\n",
    "## Python books and tutorials\n",
    "\n",
    "- The official [Python tutorial](https://docs.python.org/3/tutorial/index.html). Also, available in [Spanish](https://docs.python.org/es/3/tutorial/index.html), [French](https://docs.python.org/fr/3/tutorial/index.html), [Italian](https://docs.python.org/it/3/tutorial/index.html), [Portuguese](https://docs.python.org/pt-br/3/tutorial/index.html), and other languages.\n",
    "- [Python Crash Course](https://nostarch.com/python-crash-course-3rd-edition)\n",
    "- [The Python Coding Book](https://thepythoncodingbook.com/)\n",
    "- [How to Think Like a Computer Scientist](https://runestone.academy/ns/books/published/thinkcspy/index.html)\n",
    "- [Google Python class](https://developers.google.com/edu/python). Also available in [Spanish](https://developers.google.com/edu/python), [German](https://developers.google.com/edu/python), [French](https://developers.google.com/edu/python), and [Indonesian](https://developers.google.com/edu/python).\n",
    "- The Python community maintains a [list of Python courses and tutorials](https://wiki.python.org/moin/BeginnersGuide/NonProgrammers).\n",
    "- [Introducción a la programación con Python con Python3](https://repositori.uji.es/xmlui/handle/10234/102653)\n",
    "- A course in Spanish of focused in [Data Analysis with Python](https://github.com/JoseBlanca/py_industriales)\n",
    "\n",
    "\n",
    "## Other interactive Python courses for beginers\n",
    "\n",
    "- [Future coder](https://futurecoder.io/course/#toc)\n",
    "- [Adam Emery's course](https://learn-python.adamemery.dev/)\n",
    "- [Codedex Python course](https://www.codedex.io/python/)\n",
    "\n",
    "## Python reference documentation\n",
    "\n",
    "The official Python [documentation](https://docs.python.org/3/)."
   ]
  },
  {
   "cell_type": "markdown",
   "metadata": {},
   "source": []
  }
 ],
 "metadata": {
  "language_info": {
   "name": "python"
  }
 },
 "nbformat": 4,
 "nbformat_minor": 2
}
